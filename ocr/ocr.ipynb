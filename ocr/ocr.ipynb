{
 "cells": [
  {
   "cell_type": "code",
   "execution_count": 28,
   "metadata": {},
   "outputs": [],
   "source": [
    "import io\n",
    "import os"
   ]
  },
  {
   "cell_type": "code",
   "execution_count": 38,
   "metadata": {},
   "outputs": [],
   "source": [
    "# Imports the Google Cloud client library\n",
    "from google.cloud import vision\n",
    "from google.cloud.vision import types"
   ]
  },
  {
   "cell_type": "code",
   "execution_count": 39,
   "metadata": {},
   "outputs": [],
   "source": [
    "os.environ[\"GOOGLE_APPLICATION_CREDENTIALS\"]=\"C:/google_vision_key/middleware-e5ce290ef922.json\""
   ]
  },
  {
   "cell_type": "code",
   "execution_count": 40,
   "metadata": {},
   "outputs": [],
   "source": [
    "# Instantiates a client\n",
    "client = vision.ImageAnnotatorClient()"
   ]
  },
  {
   "cell_type": "code",
   "execution_count": 142,
   "metadata": {},
   "outputs": [],
   "source": [
    "# Set file name\n",
    "file_name = \"images/price_tag_1.jpg\""
   ]
  },
  {
   "cell_type": "code",
   "execution_count": 143,
   "metadata": {},
   "outputs": [],
   "source": [
    "with io.open(file_name, 'rb') as image_file:\n",
    "    content = image_file.read()"
   ]
  },
  {
   "cell_type": "code",
   "execution_count": 144,
   "metadata": {},
   "outputs": [],
   "source": [
    "image = types.Image(content=content)"
   ]
  },
  {
   "cell_type": "code",
   "execution_count": 145,
   "metadata": {},
   "outputs": [],
   "source": [
    "# Performs label detection on the image file\n",
    "response = client.text_detection(image=image)\n",
    "texts = response.text_annotations"
   ]
  },
  {
   "cell_type": "code",
   "execution_count": 146,
   "metadata": {},
   "outputs": [
    {
     "data": {
      "text/html": [
       "\n",
       "<html>\n",
       "  <img src=\"images/price_tag_1.jpg\", width=500>\n",
       "</html>"
      ],
      "text/plain": [
       "<IPython.core.display.HTML object>"
      ]
     },
     "execution_count": 146,
     "metadata": {},
     "output_type": "execute_result"
    }
   ],
   "source": [
    "from IPython.display import HTML\n",
    "\n",
    "html_code =\"\"\"\n",
    "<html>\n",
    "  <img src=\"%s\", width=500>\n",
    "</html>\"\"\" %file_name\n",
    "\n",
    "HTML(html_code)"
   ]
  },
  {
   "cell_type": "code",
   "execution_count": 147,
   "metadata": {},
   "outputs": [
    {
     "name": "stdout",
     "output_type": "stream",
     "text": [
      "Texts:\n",
      "\n",
      "SMOKE CO HDWR ALARM\n",
      "1.0EA\n",
      "$47.97\n",
      "Dept. 11 Keca 0071-001-0010\n",
      "Cap 6\n",
      "04/23/14\n",
      "AD\n",
      "1142769\n",
      "21008495\n",
      "4787108495\n",
      "\n"
     ]
    },
    {
     "data": {
      "text/plain": [
       "'SMOKE CO HDWR ALARM\\n1.0EA\\n$47.97\\nDept. 11 Keca 0071-001-0010\\nCap 6\\n04/23/14\\nAD\\n1142769\\n21008495\\n4787108495\\n'"
      ]
     },
     "execution_count": 147,
     "metadata": {},
     "output_type": "execute_result"
    }
   ],
   "source": [
    "print('Texts:\\n')\n",
    "# print('Complete:', texts)\n",
    "# print('\\n')'\n",
    "\n",
    "# for text in texts:\n",
    "\n",
    "print(texts[0].description)\n",
    "text = texts[0].description\n",
    "text\n",
    "#         vertices = (['({},{})'.format(vertex.x, vertex.y)\n",
    "#                     for vertex in text.bounding_poly.vertices])\n",
    "\n",
    "#         print('bounds: {}'.format(','.join(vertices)))"
   ]
  },
  {
   "cell_type": "code",
   "execution_count": 148,
   "metadata": {},
   "outputs": [
    {
     "name": "stdout",
     "output_type": "stream",
     "text": [
      "Item Name:  SMOKE CO HDWR ALARM\n"
     ]
    }
   ],
   "source": [
    "text_list = text.splitlines()\n",
    "print('Item Name: ', text_list.pop(0))\n",
    "# text_list"
   ]
  },
  {
   "cell_type": "code",
   "execution_count": 149,
   "metadata": {},
   "outputs": [
    {
     "name": "stdout",
     "output_type": "stream",
     "text": [
      "Price:  $47.97\n"
     ]
    }
   ],
   "source": [
    "price = [item for item in text_list if '$' in item]\n",
    "print('Price: ', price[0])"
   ]
  },
  {
   "cell_type": "code",
   "execution_count": null,
   "metadata": {},
   "outputs": [],
   "source": []
  }
 ],
 "metadata": {
  "kernelspec": {
   "display_name": "Python 3",
   "language": "python",
   "name": "python3"
  },
  "language_info": {
   "codemirror_mode": {
    "name": "ipython",
    "version": 3
   },
   "file_extension": ".py",
   "mimetype": "text/x-python",
   "name": "python",
   "nbconvert_exporter": "python",
   "pygments_lexer": "ipython3",
   "version": "3.6.4"
  }
 },
 "nbformat": 4,
 "nbformat_minor": 2
}
