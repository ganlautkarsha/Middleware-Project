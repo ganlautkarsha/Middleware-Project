{
 "cells": [
  {
   "cell_type": "code",
   "execution_count": 28,
   "metadata": {},
   "outputs": [],
   "source": [
    "import io\n",
    "import os"
   ]
  },
  {
   "cell_type": "code",
   "execution_count": 38,
   "metadata": {},
   "outputs": [],
   "source": [
    "# Imports the Google Cloud client library\n",
    "from google.cloud import vision\n",
    "from google.cloud.vision import types"
   ]
  },
  {
   "cell_type": "code",
   "execution_count": 39,
   "metadata": {},
   "outputs": [],
   "source": [
    "os.environ[\"GOOGLE_APPLICATION_CREDENTIALS\"]=\"C:/google_vision_key/middleware-e5ce290ef922.json\""
   ]
  },
  {
   "cell_type": "code",
   "execution_count": 40,
   "metadata": {},
   "outputs": [],
   "source": [
    "# Instantiates a client\n",
    "client = vision.ImageAnnotatorClient()"
   ]
  },
  {
   "cell_type": "code",
   "execution_count": 99,
   "metadata": {},
   "outputs": [],
   "source": [
    "# Set file name\n",
    "file_name = \"images/price_tag_4.jpg\""
   ]
  },
  {
   "cell_type": "code",
   "execution_count": 100,
   "metadata": {},
   "outputs": [],
   "source": [
    "with io.open(file_name, 'rb') as image_file:\n",
    "    content = image_file.read()"
   ]
  },
  {
   "cell_type": "code",
   "execution_count": 101,
   "metadata": {},
   "outputs": [],
   "source": [
    "image = types.Image(content=content)"
   ]
  },
  {
   "cell_type": "code",
   "execution_count": 102,
   "metadata": {},
   "outputs": [],
   "source": [
    "# Performs label detection on the image file\n",
    "response = client.text_detection(image=image)\n",
    "texts = response.text_annotations"
   ]
  },
  {
   "cell_type": "code",
   "execution_count": 103,
   "metadata": {},
   "outputs": [
    {
     "data": {
      "text/html": [
       "\n",
       "<html>\n",
       "  <img src=\"images/price_tag_4.jpg\", width=500>\n",
       "</html>"
      ],
      "text/plain": [
       "<IPython.core.display.HTML object>"
      ]
     },
     "execution_count": 103,
     "metadata": {},
     "output_type": "execute_result"
    }
   ],
   "source": [
    "from IPython.display import HTML\n",
    "\n",
    "html_code =\"\"\"\n",
    "<html>\n",
    "  <img src=\"%s\", width=500>\n",
    "</html>\"\"\" %file_name\n",
    "\n",
    "HTML(html_code)"
   ]
  },
  {
   "cell_type": "code",
   "execution_count": 117,
   "metadata": {},
   "outputs": [
    {
     "name": "stdout",
     "output_type": "stream",
     "text": [
      "Texts:\n",
      "\n",
      "PUFFS BASIC SFTPK 1X\n",
      "132\n",
      "$1.98\n",
      "0030-0003-0002\n",
      "Dept. 4\n",
      "14\n",
      "Cap 14\n",
      "552448936\n",
      "3700090441\n",
      "3700090441\n",
      "\n"
     ]
    },
    {
     "data": {
      "text/plain": [
       "'PUFFS BASIC SFTPK 1X\\n132\\n$1.98\\n0030-0003-0002\\nDept. 4\\n14\\nCap 14\\n552448936\\n3700090441\\n3700090441\\n'"
      ]
     },
     "execution_count": 117,
     "metadata": {},
     "output_type": "execute_result"
    }
   ],
   "source": [
    "print('Texts:\\n')\n",
    "# print('Complete:', texts)\n",
    "# print('\\n')'\n",
    "\n",
    "# for text in texts:\n",
    "\n",
    "print(texts[0].description)\n",
    "text = texts[0].description\n",
    "text\n",
    "#         vertices = (['({},{})'.format(vertex.x, vertex.y)\n",
    "#                     for vertex in text.bounding_poly.vertices])\n",
    "\n",
    "#         print('bounds: {}'.format(','.join(vertices)))"
   ]
  },
  {
   "cell_type": "code",
   "execution_count": 138,
   "metadata": {},
   "outputs": [
    {
     "name": "stdout",
     "output_type": "stream",
     "text": [
      "Item Name:  PUFFS BASIC SFTPK 1X\n"
     ]
    }
   ],
   "source": [
    "text_list = text.splitlines()\n",
    "print('Item Name: ', text_list.pop(0))\n",
    "# text_list"
   ]
  },
  {
   "cell_type": "code",
   "execution_count": 141,
   "metadata": {},
   "outputs": [
    {
     "name": "stdout",
     "output_type": "stream",
     "text": [
      "Price:  $1.98\n"
     ]
    }
   ],
   "source": [
    "price = [item for item in text_list if '$' in item]\n",
    "print('Price: ', price[0])"
   ]
  },
  {
   "cell_type": "code",
   "execution_count": null,
   "metadata": {},
   "outputs": [],
   "source": []
  }
 ],
 "metadata": {
  "kernelspec": {
   "display_name": "Python 3",
   "language": "python",
   "name": "python3"
  },
  "language_info": {
   "codemirror_mode": {
    "name": "ipython",
    "version": 3
   },
   "file_extension": ".py",
   "mimetype": "text/x-python",
   "name": "python",
   "nbconvert_exporter": "python",
   "pygments_lexer": "ipython3",
   "version": "3.6.4"
  }
 },
 "nbformat": 4,
 "nbformat_minor": 2
}
